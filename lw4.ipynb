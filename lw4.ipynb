{
 "cells": [
  {
   "cell_type": "code",
   "id": "initial_id",
   "metadata": {
    "collapsed": true,
    "ExecuteTime": {
     "end_time": "2025-03-10T07:48:39.013254Z",
     "start_time": "2025-03-10T07:48:39.007009Z"
    }
   },
   "source": [
    "import numpy as np\n",
    "\n",
    "\n",
    "def seidel_method(matrix_a, vector_b, eps=1e-9, max_iterations=1000):\n",
    "    n = len(vector_b)\n",
    "    x = np.zeros(n)\n",
    "    iteration = 0\n",
    "    error = eps + 1\n",
    "\n",
    "    while error > eps and iteration < max_iterations:\n",
    "        error = 0.0\n",
    "        x_new = np.copy(x)\n",
    "\n",
    "        for i in range(n):\n",
    "            s1 = sum(matrix_a[i][j] * x_new[j] for j in range(i))\n",
    "\n",
    "            s2 = sum(matrix_a[i][j] * x[j] for j in range(i + 1, n))\n",
    "\n",
    "            x_new[i] = (vector_b[i] - s1 - s2) / matrix_a[i][i]\n",
    "\n",
    "            iteration_error = abs(x_new[i] - x[i])\n",
    "            if error < iteration_error:\n",
    "                error = iteration_error\n",
    "\n",
    "        x = x_new\n",
    "        iteration += 1\n",
    "\n",
    "    return x, iteration, error\n",
    "\n",
    "\n",
    "matrix_a = np.array(\n",
    "    [[92, 3, 0, 4], [0, 69, -27, 8], [-33, 0, 107, -21], [11, 0, -3, 42]], dtype=\"float\"\n",
    ")\n",
    "\n",
    "vector_b = np.array([120, -81, 92, -17], dtype=\"float\")\n",
    "\n",
    "solution, iterations, error = seidel_method(matrix_a, vector_b)\n",
    "\n",
    "print(f\"Метод Зейделя:\")\n",
    "print(f\"Кількість ітерацій: {iterations}\")\n",
    "print(f\"Розв'язок X = {solution}\")\n",
    "print(f\"Похибка = {error}\")"
   ],
   "outputs": [
    {
     "name": "stdout",
     "output_type": "stream",
     "text": [
      "Метод Зейделя:\n",
      "Кількість ітерацій: 11\n",
      "Розв'язок X = [ 1.35493149 -0.64741342  1.14465039 -0.67786417]\n",
      "Похибка = 1.3983980640119853e-10\n"
     ]
    }
   ],
   "execution_count": 15
  }
 ],
 "metadata": {
  "kernelspec": {
   "display_name": "Python 3",
   "language": "python",
   "name": "python3"
  },
  "language_info": {
   "codemirror_mode": {
    "name": "ipython",
    "version": 2
   },
   "file_extension": ".py",
   "mimetype": "text/x-python",
   "name": "python",
   "nbconvert_exporter": "python",
   "pygments_lexer": "ipython2",
   "version": "2.7.6"
  }
 },
 "nbformat": 4,
 "nbformat_minor": 5
}
